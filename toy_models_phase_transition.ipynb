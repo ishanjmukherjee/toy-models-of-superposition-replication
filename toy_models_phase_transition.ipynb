{
  "cells": [
    {
      "cell_type": "markdown",
      "metadata": {
        "id": "sGDBMriJ9D_A"
      },
      "source": [
        "# Imports"
      ]
    },
    {
      "cell_type": "code",
      "execution_count": 92,
      "metadata": {
        "id": "XWD1JJVY9CQF"
      },
      "outputs": [],
      "source": [
        "import torch\n",
        "from torch import nn, Tensor\n",
        "import torch.nn.functional as F\n",
        "import torch.optim as optim\n",
        "import numpy as np\n",
        "import matplotlib.pyplot as plt\n",
        "import matplotlib as mpl\n",
        "from typing import Optional, Literal\n",
        "from jaxtyping import Float, jaxtyped\n",
        "from typeguard import typechecked as typechecker\n",
        "import einops\n",
        "from tqdm.notebook import tqdm\n",
        "from dataclasses import dataclass"
      ]
    },
    {
      "cell_type": "markdown",
      "metadata": {
        "id": "MTEuJsiW_ZFT"
      },
      "source": [
        "# Model definition"
      ]
    },
    {
      "cell_type": "code",
      "execution_count": 76,
      "metadata": {
        "id": "x8q2mkdJL16x"
      },
      "outputs": [],
      "source": [
        "@dataclass\n",
        "class ModelsConfig:\n",
        "    # Sweep over several models to reduce noise, following the paper\n",
        "    n_models: int = 10\n",
        "    # The paper sweeps over 50 densities and importances\n",
        "    n_densities: int = 50\n",
        "    n_importances: int = 50\n",
        "    # The setup is a 2D -> 1D -> 2D mapping\n",
        "    d_feature: int = 2\n",
        "    d_model: int = 1\n",
        "    device: str = \"cuda\""
      ]
    },
    {
      "cell_type": "code",
      "execution_count": 77,
      "metadata": {
        "id": "LyBO4VOO_YWt"
      },
      "outputs": [],
      "source": [
        "@jaxtyped(typechecker=typechecker)\n",
        "class ReLUModels(nn.Module):\n",
        "    def __init__(self, cfg: ModelsConfig):\n",
        "        super().__init__()\n",
        "\n",
        "        self.cfg = cfg\n",
        "        n_models = cfg.n_models\n",
        "        n_densities = cfg.n_densities\n",
        "        n_importances = cfg.n_importances\n",
        "        d_feature = cfg.d_feature\n",
        "        d_model = cfg.d_model\n",
        "        device = cfg.device\n",
        "\n",
        "        # W: (n_models, n_densities, n_importances, d_feature, d_model, d_feature, d_model)\n",
        "        # b: (n_models, n_densities, n_importances, d_feature)\n",
        "\n",
        "        self.W = nn.Parameter(torch.empty(n_models, n_densities, n_importances, d_feature, d_model, device=device))\n",
        "        # Kaiming initialization works better than Xavier for layers with ReLU activation\n",
        "        # See https://stats.stackexchange.com/questions/319323/whats-the-difference-between-variance-scaling-initializer-and-xavier-initialize/319849#319849\n",
        "        nn.init.kaiming_normal_(self.W)\n",
        "\n",
        "        self.b = nn.Parameter(torch.zeros(n_models, n_densities, n_importances, d_feature, device=device))\n",
        "\n",
        "    def forward(\n",
        "            self, x: Float[Tensor, \"n_models n_densities n_importances batch_size d_feature\"]\n",
        "    ) -> Float[Tensor, \"n_models n_densities n_importances batch_size d_feature\"]:\n",
        "        h = einops.einsum(\n",
        "            x, self.W,\n",
        "            \"model density importance batch d_feature, model density importance d_feature d_model -> model density importance batch d_model\"\n",
        "        )\n",
        "        out = F.relu(\n",
        "            einops.einsum(\n",
        "                h, self.W,\n",
        "                \"model density importance batch d_model, model density importance d_feature d_model -> model density importance batch d_feature\"\n",
        "            ) + self.b.unsqueeze(-2) # unsqueeze adds batch dimension to b\n",
        "        )\n",
        "        return out"
      ]
    },
    {
      "cell_type": "markdown",
      "metadata": {
        "id": "w8KCUk_I_bhS"
      },
      "source": [
        "# Data generation"
      ]
    },
    {
      "cell_type": "code",
      "execution_count": 78,
      "metadata": {
        "id": "dyg96i_m_d1W"
      },
      "outputs": [],
      "source": [
        "@jaxtyped(typechecker=typechecker)\n",
        "def generate_batch(\n",
        "        cfg: ModelsConfig, batch_size: int, densities: Float[Tensor, \"n_densities\"], device: str ='cuda'\n",
        ") -> Float[Tensor, \"n_models n_densities n_importances batch_size d_feature\"]:\n",
        "    n_models = cfg.n_models\n",
        "    n_densities = cfg.n_densities\n",
        "    n_importances = cfg.n_importances\n",
        "    d_feature = cfg.d_feature\n",
        "\n",
        "    feat_vals = torch.rand(n_models, n_densities, n_importances, batch_size, d_feature, device=device)\n",
        "    feat_probs = torch.rand(n_models, n_densities, n_importances, batch_size, d_feature, device=device)\n",
        "    # Add importance, batch and feature dims to densities for broadcasting     \n",
        "    sparsity_mask = feat_probs < densities.view(-1, 1, 1, 1)\n",
        "    # Only those feats with prob < respective density will be present in the generated data\n",
        "    return feat_vals * sparsity_mask"
      ]
    },
    {
      "cell_type": "markdown",
      "metadata": {
        "id": "IHy72uPg_fPV"
      },
      "source": [
        "# Loss function"
      ]
    },
    {
      "cell_type": "code",
      "execution_count": 79,
      "metadata": {
        "id": "YNkblQWT_hhF"
      },
      "outputs": [],
      "source": [
        "@jaxtyped(typechecker=typechecker)\n",
        "class ImportanceWeightedMSELoss(nn.Module):\n",
        "    def __init__(self):\n",
        "        super().__init__()\n",
        "\n",
        "    def forward(\n",
        "            self,\n",
        "            input: Float[Tensor, \"n_models n_densities n_importances batch_size d_feature\"],\n",
        "            target: Float[Tensor, \"n_models n_densities n_importances batch_size d_feature\"],\n",
        "            importances: Float[Tensor, \"importances\"]\n",
        "    ) -> Float[Tensor, \"n_models n_densities n_importances\"]:\n",
        "        squared_error = (target - input) ** 2\n",
        "        # unsqueeze(-2) adds batch dimension to importances before multiplying.\n",
        "        # After adding the new dimension, importances is of shape\n",
        "        # (n_importances, 1, d_feature) and squared_error is of the same shape\n",
        "        # as input, i.e., (..., n_importances, batch_size, d_feature).\n",
        "        # Then, we return the mean error over features and batches.\n",
        "        return einops.reduce(\n",
        "            squared_error * importances.unsqueeze(-2),\n",
        "            \"... batch feature -> ...\",\n",
        "            \"mean\"\n",
        "        )"
      ]
    },
    {
      "cell_type": "markdown",
      "metadata": {
        "id": "VPkzbUr8_jNE"
      },
      "source": [
        "# Training loop"
      ]
    },
    {
      "cell_type": "code",
      "execution_count": 93,
      "metadata": {
        "id": "VJIrf560KzVT"
      },
      "outputs": [],
      "source": [
        "@dataclass\n",
        "class TrainingArgs:\n",
        "    lr: float = 1e-3\n",
        "    n_epochs: int = 6000\n",
        "    log_interval: int = 150\n",
        "    batch_size: int = 1024"
      ]
    },
    {
      "cell_type": "code",
      "execution_count": 94,
      "metadata": {
        "id": "5a9Fmfnx_nA2"
      },
      "outputs": [],
      "source": [
        "def train(models: ReLUModels, training_args: TrainingArgs, optimizer: optim.Optimizer, loss_fn: nn.Module, densities, importances, device='cuda'):\n",
        "    optimizer = optimizer(models.parameters(), lr=training_args.lr)\n",
        "    loss_fn = loss_fn()\n",
        "\n",
        "    # Create 1-vs-importance tensor, where 1 represents the importance of the\n",
        "    # first feature relative to the second one\n",
        "    importances = torch.stack((torch.ones(models.cfg.n_importances, device=device), importances), dim=1)\n",
        "\n",
        "    epochs = []\n",
        "    losses = []\n",
        "\n",
        "    # Plot loss over epochs in real time\n",
        "    plt.ion()\n",
        "    fig, ax = plt.subplots()\n",
        "    line, = ax.plot(epochs, losses)\n",
        "    ax.set_xlabel('Epoch')\n",
        "    ax.set_ylabel('Loss')\n",
        "    ax.set_title('Training Loss over Epochs')\n",
        "\n",
        "    for epoch in tqdm(range(1, training_args.n_epochs + 1)):\n",
        "        batch = generate_batch(models.cfg, training_args.batch_size, densities, device)\n",
        "        # Mean loss over the variables of interest (density and importance) as\n",
        "        # well as different models\n",
        "        loss = (loss_fn(batch, models(batch), importances)).mean()\n",
        "\n",
        "        optimizer.zero_grad()\n",
        "        loss.backward()\n",
        "        optimizer.step()\n",
        "\n",
        "        epochs.append(epoch)\n",
        "        losses.append(loss.item())\n",
        "\n",
        "        line.set_xdata(epochs)\n",
        "        line.set_ydata(losses)\n",
        "        ax.relim()\n",
        "        ax.autoscale_view()\n",
        "        fig.canvas.draw()\n",
        "        fig.canvas.flush_events()\n",
        "\n",
        "        if epoch % training_args.log_interval == 0:\n",
        "            print(f\"Epoch [{epoch}/{training_args.n_epochs}]: loss = {loss.item():.6f}\")\n",
        "\n",
        "    # Turn off interactive mode and show the final plot\n",
        "    plt.ioff()\n",
        "    plt.show()"
      ]
    },
    {
      "cell_type": "markdown",
      "metadata": {
        "id": "lwgxDz7__n77"
      },
      "source": [
        "# Plotting functions"
      ]
    },
    {
      "cell_type": "markdown",
      "metadata": {
        "id": "CJFjw9sLZIAc"
      },
      "source": [
        "## Weighting\n",
        "\n",
        "The weighting parameter determines how models are weighted. By default, they are weighted equally.\n",
        "- `inverse_loss`: Weighted according to the inverse of the their losses. That is, for every importance-density pair, we weight the models we have trained by how well they perform. Higher-performing models contribute more strongly to the results plot, since they more closely track the behavior of \"ideally\" trained ReLU autoencoders.\n",
        "- `loss`: Weighted proportional to their losses. That is, the worst-performing models are weighted more highly. Just for fun.\n",
        "- `drop_worst`: Drop the model with the highest loss. This is the weighting used in the paper, but I haven't implemented it yet."
      ]
    },
    {
      "cell_type": "code",
      "execution_count": 95,
      "metadata": {
        "id": "C646FLmw_rmO"
      },
      "outputs": [],
      "source": [
        "# Norm magnitude corresponds to saturation (darkness) of pixel\n",
        "# Strength of superposition goes from blue to red\n",
        "def generate_pixel(superposition, norm):\n",
        "    # Following the paper, values are in range [0, 1].\n",
        "    # max(0, a) sets a floor of 0, min(a, 1) sets a ceiling of 1.\n",
        "    # Chaining max and min in this fashion clamps the value between 0 and 1.\n",
        "    superposition, norm = max(0, min(superposition, 1)), max(0, min(norm, 1))\n",
        "    # On the HSV, 2/3 is blue and 1 is red\n",
        "    blue, red = 2/3, 1\n",
        "    hue = blue + (red - blue) * superposition\n",
        "    return mpl.colors.hsv_to_rgb((hue, norm, 1))\n",
        "\n",
        "@jaxtyped(typechecker=typechecker)\n",
        "def visualize(models: ReLUModels, densities, importances, weighting: Optional[Literal[\"inverse_loss\", \"loss\"]] = None, batch_size: int = 2048):\n",
        "    n_densities = models.cfg.n_densities\n",
        "    n_importances = models.cfg.n_importances\n",
        "\n",
        "    models, importances, densities = models.cpu(), importances.cpu(), densities.cpu()\n",
        "    W = models.W.detach()\n",
        "\n",
        "    batch = generate_batch(models.cfg, batch_size, densities, 'cpu')\n",
        "    importances = torch.stack((torch.ones(n_importances), importances), dim=1)\n",
        "\n",
        "    feature_norms = W.norm(dim=-1)\n",
        "    # Zero out self-interactions\n",
        "    self_interactions_mask = (1 - torch.eye(models.cfg.d_feature))[None, None, :, :]\n",
        "    feature_superpositions = torch.sum(((W @ W.transpose(-1, -2)) * self_interactions_mask) ** 2, dim=-2)\n",
        "\n",
        "    models.eval()\n",
        "    with torch.no_grad():\n",
        "        preds = models(batch)\n",
        "\n",
        "    # Generate weighting\n",
        "    if weighting == \"inverse_loss\":\n",
        "        imse_loss = ImportanceWeightedMSELoss()\n",
        "        losses = imse_loss(preds, batch, importances)\n",
        "        # The 0th dim is models\n",
        "        weighting = F.normalize(1 / (losses.cpu() ** 2), p=1, dim=0).unsqueeze(-1)\n",
        "    elif weighting == \"loss\":\n",
        "        imse_loss = ImportanceWeightedMSELoss()\n",
        "        losses = imse_loss(preds, batch, importances)\n",
        "        weighting = F.normalize(losses.cpu() ** 2, p=1, dim=0).unsqueeze(-1)\n",
        "    else:\n",
        "        weighting = 1.0 # gets broadcast\n",
        "\n",
        "    # Take weighted sum across models\n",
        "    feature_norms_weighted_sum = einops.reduce(\n",
        "        feature_norms * weighting,\n",
        "        \"n_models n_densities n_importances d_feature -> n_densities n_importances d_feature\",\n",
        "        \"sum\"\n",
        "    )\n",
        "    feature_superpositions_weighted_sum = einops.reduce(\n",
        "        feature_superpositions * weighting,\n",
        "        \"n_models n_densities n_importances d_feature -> n_densities n_importances d_feature\",\n",
        "        \"sum\"\n",
        "    )\n",
        "\n",
        "    img = np.empty((n_densities, n_importances, 3))\n",
        "    for d in range(n_densities):\n",
        "        for i in range(n_importances):\n",
        "            img[d, i, :] = generate_pixel(feature_superpositions_weighted_sum[d, i, 0], feature_norms_weighted_sum[d, i, 0])\n",
        "\n",
        "    _, ax = plt.subplots(figsize=(4, 4))\n",
        "    im = ax.imshow(img, origin='lower', aspect='auto', extent=[np.log10(importances.min()), np.log10(importances.max()), np.log10(densities.min()), np.log10(densities.max())])\n",
        "    # Set labels and title\n",
        "    ax.set_xlabel('Relative importance (powers of 10)')\n",
        "    ax.set_ylabel('Density (powers of 10)')\n",
        "    ax.set_title('Feature Norms and Superpositions')\n",
        "\n",
        "    # Set log scales for both axes\n",
        "    # ax.set_xscale('log')\n",
        "    # ax.set_yscale('log')\n",
        "    plt.tight_layout()\n",
        "    plt.show()"
      ]
    },
    {
      "cell_type": "markdown",
      "metadata": {
        "id": "j_IbFLpTVN6Y"
      },
      "source": [
        "# Device"
      ]
    },
    {
      "cell_type": "code",
      "execution_count": 96,
      "metadata": {
        "id": "mjcsKWo7VPPT"
      },
      "outputs": [],
      "source": [
        "# CPU on Colab will take >6 hours to train, but <10 seconds for inference (plotting)\n",
        "device = 'cuda'"
      ]
    },
    {
      "cell_type": "markdown",
      "metadata": {
        "id": "Rj3xSAcBlziA"
      },
      "source": [
        "# Intializing models, densities and importances"
      ]
    },
    {
      "cell_type": "code",
      "execution_count": 97,
      "metadata": {
        "id": "bFnxTFRVOMA8"
      },
      "outputs": [],
      "source": [
        "models_cfg = ModelsConfig()\n",
        "models = ReLUModels(models_cfg)\n",
        "\n",
        "# Both features' density is log-spaced from 0.01 to 1\n",
        "densities = 10 ** torch.linspace(-2, 0, 50, device=device)\n",
        "# Relative importance of the second feature is log-spaced from 0.1 to 10\n",
        "importances = 10 ** torch.linspace(-1, 1, 50, device=device)"
      ]
    },
    {
      "cell_type": "markdown",
      "metadata": {
        "id": "AiAKN_npVCwR"
      },
      "source": [
        "# Seed for reproducibility"
      ]
    },
    {
      "cell_type": "code",
      "execution_count": 98,
      "metadata": {
        "id": "pZ7d1Cn7htX7"
      },
      "outputs": [],
      "source": [
        "torch.manual_seed(42)\n",
        "np.random.seed(42)"
      ]
    },
    {
      "cell_type": "markdown",
      "metadata": {
        "id": "yEGR7jLlADWi"
      },
      "source": [
        "# Training and saving model"
      ]
    },
    {
      "cell_type": "code",
      "execution_count": 99,
      "metadata": {
        "colab": {
          "base_uri": "https://localhost:8080/",
          "height": 1000,
          "referenced_widgets": [
            "04dc3d9e4ee14e75bc8ad252a8e90acf",
            "159bb162288441ba8e2e8cdf9332e16e",
            "dc01daf001eb4777846e2c33cb2d1644",
            "a4aa51b8c509427aabeb58ea8b978d66",
            "699ba46b7e1c4ffa9ec1b0b33be5a4fc",
            "ab3d3aa2968a4326846aea9ef7ce018b",
            "46d4a32d15464c32bd84a71dc4cb97b3",
            "11fdcf2c52b44afb91433f055b954387",
            "eda55ac5b71341d987bf5178bf8f9f0d",
            "685c2a2ddcc54baa9966521e4f2627b1",
            "395e979321f64d14816f3be9de9d74e2"
          ]
        },
        "id": "zKUGjdKolIuU",
        "outputId": "b32f4948-694b-4d6d-e94e-697da86b6c8e"
      },
      "outputs": [
        {
          "data": {
            "application/vnd.jupyter.widget-view+json": {
              "model_id": "04dc3d9e4ee14e75bc8ad252a8e90acf",
              "version_major": 2,
              "version_minor": 0
            },
            "text/plain": [
              "  0%|          | 0/6000 [00:00<?, ?it/s]"
            ]
          },
          "metadata": {},
          "output_type": "display_data"
        },
        {
          "name": "stdout",
          "output_type": "stream",
          "text": [
            "Epoch [150/6000]: loss = 0.077857\n",
            "Epoch [300/6000]: loss = 0.051662\n",
            "Epoch [450/6000]: loss = 0.036758\n",
            "Epoch [600/6000]: loss = 0.026036\n",
            "Epoch [750/6000]: loss = 0.019554\n",
            "Epoch [900/6000]: loss = 0.016509\n",
            "Epoch [1050/6000]: loss = 0.015120\n",
            "Epoch [1200/6000]: loss = 0.014436\n",
            "Epoch [1350/6000]: loss = 0.014042\n",
            "Epoch [1500/6000]: loss = 0.013831\n",
            "Epoch [1650/6000]: loss = 0.013733\n",
            "Epoch [1800/6000]: loss = 0.013647\n",
            "Epoch [1950/6000]: loss = 0.013589\n",
            "Epoch [2100/6000]: loss = 0.013522\n",
            "Epoch [2250/6000]: loss = 0.013457\n",
            "Epoch [2400/6000]: loss = 0.013402\n",
            "Epoch [2550/6000]: loss = 0.013326\n",
            "Epoch [2700/6000]: loss = 0.013271\n",
            "Epoch [2850/6000]: loss = 0.013205\n",
            "Epoch [3000/6000]: loss = 0.013130\n",
            "Epoch [3150/6000]: loss = 0.013072\n",
            "Epoch [3300/6000]: loss = 0.013049\n",
            "Epoch [3450/6000]: loss = 0.013002\n",
            "Epoch [3600/6000]: loss = 0.012972\n",
            "Epoch [3750/6000]: loss = 0.012927\n",
            "Epoch [3900/6000]: loss = 0.012907\n",
            "Epoch [4050/6000]: loss = 0.012883\n",
            "Epoch [4200/6000]: loss = 0.012856\n",
            "Epoch [4350/6000]: loss = 0.012832\n",
            "Epoch [4500/6000]: loss = 0.012794\n",
            "Epoch [4650/6000]: loss = 0.012775\n",
            "Epoch [4800/6000]: loss = 0.012753\n",
            "Epoch [4950/6000]: loss = 0.012719\n",
            "Epoch [5100/6000]: loss = 0.012704\n",
            "Epoch [5250/6000]: loss = 0.012685\n",
            "Epoch [5400/6000]: loss = 0.012687\n",
            "Epoch [5550/6000]: loss = 0.012669\n",
            "Epoch [5700/6000]: loss = 0.012638\n",
            "Epoch [5850/6000]: loss = 0.012607\n",
            "Epoch [6000/6000]: loss = 0.012607\n"
          ]
        },
        {
          "data": {
            "image/png": "[encoded data removed]",
            "text/plain": [
              "<Figure size 640x480 with 1 Axes>"
            ]
          },
          "metadata": {},
          "output_type": "display_data"
        },
        {
          "name": "stdout",
          "output_type": "stream",
          "text": [
            "Training complete.\n"
          ]
        }
      ],
      "source": [
        "train(models, TrainingArgs(), optim.AdamW, ImportanceWeightedMSELoss, densities, importances, device)\n",
        "print(\"Training complete.\")"
      ]
    },
    {
      "cell_type": "code",
      "execution_count": 100,
      "metadata": {
        "colab": {
          "base_uri": "https://localhost:8080/"
        },
        "id": "U6diR4nikZjx",
        "outputId": "aa8a7937-d302-4f58-c0d1-dc939863e696"
      },
      "outputs": [
        {
          "name": "stdout",
          "output_type": "stream",
          "text": [
            "Drive already mounted at /content/drive; to attempt to forcibly remount, call drive.mount(\"/content/drive\", force_remount=True).\n"
          ]
        }
      ],
      "source": [
        "from google.colab import drive\n",
        "drive.mount('/content/drive')\n",
        "# save_path = '/content/drive/My Drive/toy-models-superpos/relus-across-densities-and-importances.pth'\n",
        "save_path = '/content/drive/My Drive/toy-models-superpos/relus-across-densities-and-importances-new.pth'\n",
        "torch.save(models.state_dict(), save_path)"
      ]
    },
    {
      "cell_type": "markdown",
      "metadata": {
        "id": "G2--l1Ftgclf"
      },
      "source": [
        "# Plotting results"
      ]
    },
    {
      "cell_type": "code",
      "execution_count": 101,
      "metadata": {
        "colab": {
          "base_uri": "https://localhost:8080/"
        },
        "id": "dZspM8WNkoAh",
        "outputId": "8a2bc730-5437-4028-a12e-0da780b950f6"
      },
      "outputs": [
        {
          "name": "stdout",
          "output_type": "stream",
          "text": [
            "Drive already mounted at /content/drive; to attempt to forcibly remount, call drive.mount(\"/content/drive\", force_remount=True).\n"
          ]
        },
        {
          "name": "stderr",
          "output_type": "stream",
          "text": [
            "<ipython-input-101-6754d332af13>:4: FutureWarning: You are using `torch.load` with `weights_only=False` (the current default value), which uses the default pickle module implicitly. It is possible to construct malicious pickle data which will execute arbitrary code during unpickling (See https://github.com/pytorch/pytorch/blob/main/SECURITY.md#untrusted-models for more details). In a future release, the default value for `weights_only` will be flipped to `True`. This limits the functions that could be executed during unpickling. Arbitrary objects will no longer be allowed to be loaded via this mode unless they are explicitly allowlisted by the user via `torch.serialization.add_safe_globals`. We recommend you start setting `weights_only=True` for any use case where you don't have full control of the loaded file. Please open an issue on GitHub for any issues related to this experimental feature.\n",
            "  models.load_state_dict(torch.load('/content/drive/My Drive/toy-models-superpos/relus-across-densities-and-importances-new.pth', map_location=torch.device('cpu')))\n"
          ]
        },
        {
          "data": {
            "text/plain": [
              "<All keys matched successfully>"
            ]
          },
          "execution_count": 101,
          "metadata": {},
          "output_type": "execute_result"
        }
      ],
      "source": [
        "from google.colab import drive\n",
        "drive.mount('/content/drive')\n",
        "# models.load_state_dict(torch.load('/content/drive/My Drive/toy-models-superpos/relus-across-densities-and-importances.pth', map_location=torch.device('cpu')))\n",
        "models.load_state_dict(torch.load('/content/drive/My Drive/toy-models-superpos/relus-across-densities-and-importances-new.pth', map_location=torch.device('cpu')))"
      ]
    },
    {
      "cell_type": "code",
      "execution_count": 102,
      "metadata": {
        "colab": {
          "base_uri": "https://localhost:8080/",
          "height": 407
        },
        "id": "A4VTxz8igeGG",
        "outputId": "993820c3-f9ce-47b7-98ae-247992de6e44"
      },
      "outputs": [
        {
          "data": {
            "image/png": "[encoded data removed]",
            "text/plain": [
              "<Figure size 400x400 with 1 Axes>"
            ]
          },
          "metadata": {},
          "output_type": "display_data"
        }
      ],
      "source": [
        "visualize(models, densities, importances, weighting=\"inverse_loss\")"
      ]
    },
    {
      "cell_type": "code",
      "execution_count": 103,
      "metadata": {
        "colab": {
          "base_uri": "https://localhost:8080/",
          "height": 407
        },
        "id": "hqG7CpvI5xFv",
        "outputId": "7509d273-9257-466d-f8b5-2dddf6117d0d"
      },
      "outputs": [
        {
          "data": {
            "image/png": "[encoded data removed]",
            "text/plain": [
              "<Figure size 400x400 with 1 Axes>"
            ]
          },
          "metadata": {},
          "output_type": "display_data"
        }
      ],
      "source": [
        "visualize(models, densities, importances, weighting=\"loss\")"
      ]
    },
    {
      "cell_type": "code",
      "execution_count": 104,
      "metadata": {
        "colab": {
          "base_uri": "https://localhost:8080/",
          "height": 407
        },
        "id": "4hdgiMNY50RU",
        "outputId": "a24dfe4e-38c4-46d3-c61b-e98fb3efadab"
      },
      "outputs": [
        {
          "data": {
            "image/png": "[encoded data removed]",
            "text/plain": [
              "<Figure size 400x400 with 1 Axes>"
            ]
          },
          "metadata": {},
          "output_type": "display_data"
        }
      ],
      "source": [
        "visualize(models, densities, importances)"
      ]
    }
  ],
  "metadata": {
    "accelerator": "GPU",
    "colab": {
      "gpuType": "T4",
      "provenance": []
    },
    "kernelspec": {
      "display_name": "Python 3",
      "name": "python3"
    },
    "language_info": {
      "name": "python"
    },
    "widgets": {
      "application/vnd.jupyter.widget-state+json": {
        "04dc3d9e4ee14e75bc8ad252a8e90acf": {
          "model_module": "@jupyter-widgets/controls",
          "model_module_version": "1.5.0",
          "model_name": "HBoxModel",
          "state": {
            "_dom_classes": [],
            "_model_module": "@jupyter-widgets/controls",
            "_model_module_version": "1.5.0",
            "_model_name": "HBoxModel",
            "_view_count": null,
            "_view_module": "@jupyter-widgets/controls",
            "_view_module_version": "1.5.0",
            "_view_name": "HBoxView",
            "box_style": "",
            "children": [
              "IPY_MODEL_159bb162288441ba8e2e8cdf9332e16e",
              "IPY_MODEL_dc01daf001eb4777846e2c33cb2d1644",
              "IPY_MODEL_a4aa51b8c509427aabeb58ea8b978d66"
            ],
            "layout": "IPY_MODEL_699ba46b7e1c4ffa9ec1b0b33be5a4fc"
          }
        },
        "11fdcf2c52b44afb91433f055b954387": {
          "model_module": "@jupyter-widgets/base",
          "model_module_version": "1.2.0",
          "model_name": "LayoutModel",
          "state": {
            "_model_module": "@jupyter-widgets/base",
            "_model_module_version": "1.2.0",
            "_model_name": "LayoutModel",
            "_view_count": null,
            "_view_module": "@jupyter-widgets/base",
            "_view_module_version": "1.2.0",
            "_view_name": "LayoutView",
            "align_content": null,
            "align_items": null,
            "align_self": null,
            "border": null,
            "bottom": null,
            "display": null,
            "flex": null,
            "flex_flow": null,
            "grid_area": null,
            "grid_auto_columns": null,
            "grid_auto_flow": null,
            "grid_auto_rows": null,
            "grid_column": null,
            "grid_gap": null,
            "grid_row": null,
            "grid_template_areas": null,
            "grid_template_columns": null,
            "grid_template_rows": null,
            "height": null,
            "justify_content": null,
            "justify_items": null,
            "left": null,
            "margin": null,
            "max_height": null,
            "max_width": null,
            "min_height": null,
            "min_width": null,
            "object_fit": null,
            "object_position": null,
            "order": null,
            "overflow": null,
            "overflow_x": null,
            "overflow_y": null,
            "padding": null,
            "right": null,
            "top": null,
            "visibility": null,
            "width": null
          }
        },
        "159bb162288441ba8e2e8cdf9332e16e": {
          "model_module": "@jupyter-widgets/controls",
          "model_module_version": "1.5.0",
          "model_name": "HTMLModel",
          "state": {
            "_dom_classes": [],
            "_model_module": "@jupyter-widgets/controls",
            "_model_module_version": "1.5.0",
            "_model_name": "HTMLModel",
            "_view_count": null,
            "_view_module": "@jupyter-widgets/controls",
            "_view_module_version": "1.5.0",
            "_view_name": "HTMLView",
            "description": "",
            "description_tooltip": null,
            "layout": "IPY_MODEL_ab3d3aa2968a4326846aea9ef7ce018b",
            "placeholder": "​",
            "style": "IPY_MODEL_46d4a32d15464c32bd84a71dc4cb97b3",
            "value": "100%"
          }
        },
        "395e979321f64d14816f3be9de9d74e2": {
          "model_module": "@jupyter-widgets/controls",
          "model_module_version": "1.5.0",
          "model_name": "DescriptionStyleModel",
          "state": {
            "_model_module": "@jupyter-widgets/controls",
            "_model_module_version": "1.5.0",
            "_model_name": "DescriptionStyleModel",
            "_view_count": null,
            "_view_module": "@jupyter-widgets/base",
            "_view_module_version": "1.2.0",
            "_view_name": "StyleView",
            "description_width": ""
          }
        },
        "46d4a32d15464c32bd84a71dc4cb97b3": {
          "model_module": "@jupyter-widgets/controls",
          "model_module_version": "1.5.0",
          "model_name": "DescriptionStyleModel",
          "state": {
            "_model_module": "@jupyter-widgets/controls",
            "_model_module_version": "1.5.0",
            "_model_name": "DescriptionStyleModel",
            "_view_count": null,
            "_view_module": "@jupyter-widgets/base",
            "_view_module_version": "1.2.0",
            "_view_name": "StyleView",
            "description_width": ""
          }
        },
        "685c2a2ddcc54baa9966521e4f2627b1": {
          "model_module": "@jupyter-widgets/base",
          "model_module_version": "1.2.0",
          "model_name": "LayoutModel",
          "state": {
            "_model_module": "@jupyter-widgets/base",
            "_model_module_version": "1.2.0",
            "_model_name": "LayoutModel",
            "_view_count": null,
            "_view_module": "@jupyter-widgets/base",
            "_view_module_version": "1.2.0",
            "_view_name": "LayoutView",
            "align_content": null,
            "align_items": null,
            "align_self": null,
            "border": null,
            "bottom": null,
            "display": null,
            "flex": null,
            "flex_flow": null,
            "grid_area": null,
            "grid_auto_columns": null,
            "grid_auto_flow": null,
            "grid_auto_rows": null,
            "grid_column": null,
            "grid_gap": null,
            "grid_row": null,
            "grid_template_areas": null,
            "grid_template_columns": null,
            "grid_template_rows": null,
            "height": null,
            "justify_content": null,
            "justify_items": null,
            "left": null,
            "margin": null,
            "max_height": null,
            "max_width": null,
            "min_height": null,
            "min_width": null,
            "object_fit": null,
            "object_position": null,
            "order": null,
            "overflow": null,
            "overflow_x": null,
            "overflow_y": null,
            "padding": null,
            "right": null,
            "top": null,
            "visibility": null,
            "width": null
          }
        },
        "699ba46b7e1c4ffa9ec1b0b33be5a4fc": {
          "model_module": "@jupyter-widgets/base",
          "model_module_version": "1.2.0",
          "model_name": "LayoutModel",
          "state": {
            "_model_module": "@jupyter-widgets/base",
            "_model_module_version": "1.2.0",
            "_model_name": "LayoutModel",
            "_view_count": null,
            "_view_module": "@jupyter-widgets/base",
            "_view_module_version": "1.2.0",
            "_view_name": "LayoutView",
            "align_content": null,
            "align_items": null,
            "align_self": null,
            "border": null,
            "bottom": null,
            "display": null,
            "flex": null,
            "flex_flow": null,
            "grid_area": null,
            "grid_auto_columns": null,
            "grid_auto_flow": null,
            "grid_auto_rows": null,
            "grid_column": null,
            "grid_gap": null,
            "grid_row": null,
            "grid_template_areas": null,
            "grid_template_columns": null,
            "grid_template_rows": null,
            "height": null,
            "justify_content": null,
            "justify_items": null,
            "left": null,
            "margin": null,
            "max_height": null,
            "max_width": null,
            "min_height": null,
            "min_width": null,
            "object_fit": null,
            "object_position": null,
            "order": null,
            "overflow": null,
            "overflow_x": null,
            "overflow_y": null,
            "padding": null,
            "right": null,
            "top": null,
            "visibility": null,
            "width": null
          }
        },
        "a4aa51b8c509427aabeb58ea8b978d66": {
          "model_module": "@jupyter-widgets/controls",
          "model_module_version": "1.5.0",
          "model_name": "HTMLModel",
          "state": {
            "_dom_classes": [],
            "_model_module": "@jupyter-widgets/controls",
            "_model_module_version": "1.5.0",
            "_model_name": "HTMLModel",
            "_view_count": null,
            "_view_module": "@jupyter-widgets/controls",
            "_view_module_version": "1.5.0",
            "_view_name": "HTMLView",
            "description": "",
            "description_tooltip": null,
            "layout": "IPY_MODEL_685c2a2ddcc54baa9966521e4f2627b1",
            "placeholder": "​",
            "style": "IPY_MODEL_395e979321f64d14816f3be9de9d74e2",
            "value": " 6000/6000 [07:21&lt;00:00, 11.72it/s]"
          }
        },
        "ab3d3aa2968a4326846aea9ef7ce018b": {
          "model_module": "@jupyter-widgets/base",
          "model_module_version": "1.2.0",
          "model_name": "LayoutModel",
          "state": {
            "_model_module": "@jupyter-widgets/base",
            "_model_module_version": "1.2.0",
            "_model_name": "LayoutModel",
            "_view_count": null,
            "_view_module": "@jupyter-widgets/base",
            "_view_module_version": "1.2.0",
            "_view_name": "LayoutView",
            "align_content": null,
            "align_items": null,
            "align_self": null,
            "border": null,
            "bottom": null,
            "display": null,
            "flex": null,
            "flex_flow": null,
            "grid_area": null,
            "grid_auto_columns": null,
            "grid_auto_flow": null,
            "grid_auto_rows": null,
            "grid_column": null,
            "grid_gap": null,
            "grid_row": null,
            "grid_template_areas": null,
            "grid_template_columns": null,
            "grid_template_rows": null,
            "height": null,
            "justify_content": null,
            "justify_items": null,
            "left": null,
            "margin": null,
            "max_height": null,
            "max_width": null,
            "min_height": null,
            "min_width": null,
            "object_fit": null,
            "object_position": null,
            "order": null,
            "overflow": null,
            "overflow_x": null,
            "overflow_y": null,
            "padding": null,
            "right": null,
            "top": null,
            "visibility": null,
            "width": null
          }
        },
        "dc01daf001eb4777846e2c33cb2d1644": {
          "model_module": "@jupyter-widgets/controls",
          "model_module_version": "1.5.0",
          "model_name": "FloatProgressModel",
          "state": {
            "_dom_classes": [],
            "_model_module": "@jupyter-widgets/controls",
            "_model_module_version": "1.5.0",
            "_model_name": "FloatProgressModel",
            "_view_count": null,
            "_view_module": "@jupyter-widgets/controls",
            "_view_module_version": "1.5.0",
            "_view_name": "ProgressView",
            "bar_style": "success",
            "description": "",
            "description_tooltip": null,
            "layout": "IPY_MODEL_11fdcf2c52b44afb91433f055b954387",
            "max": 6000,
            "min": 0,
            "orientation": "horizontal",
            "style": "IPY_MODEL_eda55ac5b71341d987bf5178bf8f9f0d",
            "value": 6000
          }
        },
        "eda55ac5b71341d987bf5178bf8f9f0d": {
          "model_module": "@jupyter-widgets/controls",
          "model_module_version": "1.5.0",
          "model_name": "ProgressStyleModel",
          "state": {
            "_model_module": "@jupyter-widgets/controls",
            "_model_module_version": "1.5.0",
            "_model_name": "ProgressStyleModel",
            "_view_count": null,
            "_view_module": "@jupyter-widgets/base",
            "_view_module_version": "1.2.0",
            "_view_name": "StyleView",
            "bar_color": null,
            "description_width": ""
          }
        }
      }
    }
  },
  "nbformat": 4,
  "nbformat_minor": 0
}
